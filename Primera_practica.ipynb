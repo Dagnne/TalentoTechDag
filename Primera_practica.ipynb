{
  "cells": [
    {
      "cell_type": "markdown",
      "metadata": {
        "id": "view-in-github",
        "colab_type": "text"
      },
      "source": [
        "<a href=\"https://colab.research.google.com/github/Dagnne/TalentoTechDag/blob/main/Primera_practica.ipynb\" target=\"_parent\"><img src=\"https://colab.research.google.com/assets/colab-badge.svg\" alt=\"Open In Colab\"/></a>"
      ]
    },
    {
      "cell_type": "markdown",
      "source": [
        "# Suma de Variables"
      ],
      "metadata": {
        "id": "jPljhO90tNYs"
      }
    },
    {
      "cell_type": "code",
      "execution_count": null,
      "metadata": {
        "id": "Goh2QEtJp6sN"
      },
      "outputs": [],
      "source": [
        "# variables e input - entrada\n",
        "\n",
        "num1= 10\n",
        "num2= 12\n",
        "\n",
        "# process\n",
        "suma = num1 + num2\n",
        "\n",
        "# output - salida\n",
        "print(suma)"
      ]
    },
    {
      "cell_type": "markdown",
      "source": [
        "Conexion con Drive"
      ],
      "metadata": {
        "id": "QoQvNw5kxrZT"
      }
    },
    {
      "cell_type": "code",
      "source": [
        "from google.colab import drive\n",
        "drive.mount('/content/drive/')"
      ],
      "metadata": {
        "id": "hyWZvIj_xzAT"
      },
      "execution_count": null,
      "outputs": []
    },
    {
      "cell_type": "markdown",
      "source": [
        "Conexion con archivo"
      ],
      "metadata": {
        "id": "LeGcxYRS6IlD"
      }
    },
    {
      "cell_type": "code",
      "source": [
        "path = '/content/drive/MyDrive/Analisis de Datos basico Talento Tech/ArchivoBase.xlsx'"
      ],
      "metadata": {
        "id": "YZ21XCRs6Mfy"
      },
      "execution_count": 3,
      "outputs": []
    },
    {
      "cell_type": "code",
      "source": [
        "# importar desde pandas\n",
        "import pandas as pd"
      ],
      "metadata": {
        "id": "DhS5KhYUdUzZ"
      },
      "execution_count": 4,
      "outputs": []
    },
    {
      "cell_type": "code",
      "source": [
        "df = pd.read_excel(path) # Tener en cuenta el uso de mayusculas y minusculas, si no, puede generar error"
      ],
      "metadata": {
        "id": "HD5G15Jidjui"
      },
      "execution_count": 5,
      "outputs": []
    },
    {
      "cell_type": "code",
      "source": [
        "df.head(20)"
      ],
      "metadata": {
        "id": "VP6eTIUkf8UJ"
      },
      "execution_count": null,
      "outputs": []
    }
  ],
  "metadata": {
    "colab": {
      "provenance": [],
      "authorship_tag": "ABX9TyOozZ81iyjjY4VuV+7wVeBa",
      "include_colab_link": true
    },
    "kernelspec": {
      "display_name": "Python 3",
      "name": "python3"
    },
    "language_info": {
      "name": "python"
    }
  },
  "nbformat": 4,
  "nbformat_minor": 0
}