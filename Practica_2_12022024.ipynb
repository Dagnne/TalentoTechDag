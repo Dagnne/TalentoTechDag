{
  "nbformat": 4,
  "nbformat_minor": 0,
  "metadata": {
    "colab": {
      "provenance": [],
      "authorship_tag": "ABX9TyNfYnfMLzJ5Km+yoYpOlqY3",
      "include_colab_link": true
    },
    "kernelspec": {
      "name": "python3",
      "display_name": "Python 3"
    },
    "language_info": {
      "name": "python"
    }
  },
  "cells": [
    {
      "cell_type": "markdown",
      "metadata": {
        "id": "view-in-github",
        "colab_type": "text"
      },
      "source": [
        "<a href=\"https://colab.research.google.com/github/Dagnne/TalentoTechDag/blob/main/Practica_2_12022024.ipynb\" target=\"_parent\"><img src=\"https://colab.research.google.com/assets/colab-badge.svg\" alt=\"Open In Colab\"/></a>"
      ]
    },
    {
      "cell_type": "markdown",
      "source": [
        "# Segunda Práctica"
      ],
      "metadata": {
        "id": "QusS1PpL1Ew-"
      }
    },
    {
      "cell_type": "code",
      "execution_count": 1,
      "metadata": {
        "id": "RYMKI-tN09Fw"
      },
      "outputs": [],
      "source": [
        "# Paso 1: Ingresar las librerias requeridas\n",
        "# Paso 2: Debo tener el archivo en una carpeta\n",
        "# Paso 3: Debo establecer una conexion con la carpeta\n",
        "# Paso 4: Ejecutar la celda de la conexion y revisar que este ok"
      ]
    },
    {
      "cell_type": "code",
      "source": [
        "from google.colab import drive # Traemos la clase drive dentro del modulo Colab, del paquete google\n",
        "drive.mount ('/content/drive/') # Establecemos la conexion mediante el metodo mount"
      ],
      "metadata": {
        "id": "MzXb55cV2iKX"
      },
      "execution_count": null,
      "outputs": []
    },
    {
      "cell_type": "code",
      "source": [
        "# Establezco la conexion con mi fuente y con el Dataset de prueba\n",
        "path = ('/content/drive/MyDrive/Analisis de Datos basico Talento Tech/ArchivoBase.xlsx') # Esta es la ruta de acceso utilizando el medoto path"
      ],
      "metadata": {
        "id": "pIRQOnes4gli"
      },
      "execution_count": 3,
      "outputs": []
    },
    {
      "cell_type": "code",
      "source": [
        "# Importamos la libreria para manipulacion de datos llamada Pandas\n",
        "import pandas as pd"
      ],
      "metadata": {
        "id": "1qZ941wG6jqt"
      },
      "execution_count": 4,
      "outputs": []
    },
    {
      "cell_type": "code",
      "source": [
        "# Creamos un dataframe de pandas con los datos suministrados\n",
        "df = pd.read_excel(path)"
      ],
      "metadata": {
        "id": "zU-fhwfB8_Ci"
      },
      "execution_count": 5,
      "outputs": []
    },
    {
      "cell_type": "markdown",
      "source": [
        "# **Creacion y Lectura de Dataframe**\n",
        "\n",
        "pd.DataFrame(data): Crea un Dataframe a partir de datos\n",
        "\n",
        "pd.read_csv('Archivo.csv'): Lee un archivo csv y crea un dataframe\n",
        "\n",
        "pd.read_excel('Archivo.xlsx'): Lee un archivo excel y crea un dataframe"
      ],
      "metadata": {
        "id": "e6PPs1Kx-Fno"
      }
    },
    {
      "cell_type": "markdown",
      "source": [
        "## **Visualizacion y exploracion de datos**\n",
        "df.head (): Muestra las primeras filas del dataframe\n",
        "\n",
        "df.tail (): Muestra las ultimas filas del dataframe\n",
        "\n",
        "df.info (): Muestra informacion sobre el dataframe, incluyendo tipos de datos y valores no nulos\n",
        "\n",
        "df.describe (): Proporciona estadisticas descriptivas para columnas numericas\n",
        "\n",
        "df.shape: Devuelve una tupla con la cantidad de filas y columnas del dataframe\n",
        "\n",
        "df.columns: Devuelve una lista con los nombresde las columnas del dataframe"
      ],
      "metadata": {
        "id": "Ax8cPBilFL58"
      }
    },
    {
      "cell_type": "code",
      "source": [
        "df.head() # Muestra las primeras filas del dataframe"
      ],
      "metadata": {
        "id": "ibSNnkbj9n9Y"
      },
      "execution_count": null,
      "outputs": []
    },
    {
      "cell_type": "code",
      "source": [
        "df.tail() # Muestra las ultimas filas del dataframe"
      ],
      "metadata": {
        "id": "4aQEZeyN-E_G"
      },
      "execution_count": null,
      "outputs": []
    },
    {
      "cell_type": "code",
      "source": [
        "df.info() # Muestra informacion sobre el dataframe, incluyendo tipos de datos y valores no nulos"
      ],
      "metadata": {
        "id": "xjgWE9GVK2rN"
      },
      "execution_count": null,
      "outputs": []
    },
    {
      "cell_type": "code",
      "source": [
        "df.describe() # Proporciona estadisticas descriptivas para columnas numericas"
      ],
      "metadata": {
        "id": "SN0xQXBdK24G"
      },
      "execution_count": null,
      "outputs": []
    },
    {
      "cell_type": "code",
      "source": [
        "df.shape # Devuelve una tupla con la cantidad de filas y columnas del dataframe"
      ],
      "metadata": {
        "id": "j0bEQ-A0K3ED"
      },
      "execution_count": null,
      "outputs": []
    },
    {
      "cell_type": "code",
      "source": [
        "df.columns # Devuelve una lista con los nombresde las columnas del dataframe"
      ],
      "metadata": {
        "id": "Val6zjMvK3O-"
      },
      "execution_count": null,
      "outputs": []
    },
    {
      "cell_type": "code",
      "source": [
        "# Ejercicio 1: Mostrar las primeras filas del dataframe\n",
        "print('Ejercicio 1: Mostrar las primeras filas del dataframe')\n",
        "print(df.head(10))"
      ],
      "metadata": {
        "id": "pY0kd0yJaZO6"
      },
      "execution_count": null,
      "outputs": []
    },
    {
      "cell_type": "code",
      "source": [
        "# Ejercicio 2: Calcular el total de ventas por region\n",
        "print('Ejercicio 2: Calcular el total de ventas por region')\n",
        "Ventas_por_region = df.groupby('Region')[\"Ventas\"].sum()\n",
        "print(Ventas_por_region)\n",
        "print(\"\\n\")\n",
        "print(df.head(10))"
      ],
      "metadata": {
        "id": "bceJXLFHbvCf"
      },
      "execution_count": null,
      "outputs": []
    },
    {
      "cell_type": "code",
      "source": [
        "# Ejercicio 3: Filtras el DataFrame para mostrar solo las ventas realizadas por David\n",
        "print(\"Ejercicio 3: Filtras el DataFrame para mostrar solo las ventas realizadas por David\")\n",
        "ventas_david = df[df['Vendedor'] == 'David']\n",
        "print(ventas_david)\n",
        "print(\"\\n\")"
      ],
      "metadata": {
        "id": "RnU39LuEgAKe"
      },
      "execution_count": null,
      "outputs": []
    },
    {
      "cell_type": "code",
      "source": [
        "# Ejercicio 4: Calcular el promedio de ventas por producto\n",
        "print('Ejercicio 4: Calcular el promedio de ventas por producto')\n",
        "ventas_por_producto = df.groupby('Producto')['Ventas'].mean()\n",
        "print(ventas_por_producto)\n",
        "print(\"\\n\")"
      ],
      "metadata": {
        "id": "DPjGGvBKjIIV"
      },
      "execution_count": null,
      "outputs": []
    },
    {
      "cell_type": "code",
      "source": [
        "# Ejercicio 5: Ordenar el DataFrame por ventas en orden ascendente\n",
        "print(\"Ejercicio 5: Ordenar el DataFrame por ventas en orden ascendente\")\n",
        "df_ordenado = df.sort_values(by='Ventas', ascending=False)\n",
        "print(df_ordenado)"
      ],
      "metadata": {
        "id": "a9jThzqbjIY5"
      },
      "execution_count": null,
      "outputs": []
    }
  ]
}