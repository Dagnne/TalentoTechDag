{
  "nbformat": 4,
  "nbformat_minor": 0,
  "metadata": {
    "colab": {
      "provenance": [],
      "authorship_tag": "ABX9TyO+g+3L9RmJc05bF+u4Moxr",
      "include_colab_link": true
    },
    "kernelspec": {
      "name": "python3",
      "display_name": "Python 3"
    },
    "language_info": {
      "name": "python"
    }
  },
  "cells": [
    {
      "cell_type": "markdown",
      "metadata": {
        "id": "view-in-github",
        "colab_type": "text"
      },
      "source": [
        "<a href=\"https://colab.research.google.com/github/Dagnne/TalentoTechDag/blob/main/Practica_2_12022024.ipynb\" target=\"_parent\"><img src=\"https://colab.research.google.com/assets/colab-badge.svg\" alt=\"Open In Colab\"/></a>"
      ]
    },
    {
      "cell_type": "markdown",
      "source": [
        "# Segunda Práctica"
      ],
      "metadata": {
        "id": "QusS1PpL1Ew-"
      }
    },
    {
      "cell_type": "code",
      "execution_count": 1,
      "metadata": {
        "id": "RYMKI-tN09Fw"
      },
      "outputs": [],
      "source": [
        "# Paso 1: Ingresar las librerias requeridas\n",
        "# Paso 2: Debo tener el archivo en una carpeta\n",
        "# Paso 3: Debo establecer una conexion con la carpeta\n",
        "# Paso 4: Ejecutar la celda de la conexion y revisar que este ok"
      ]
    },
    {
      "cell_type": "code",
      "source": [
        "from google.colab import drive # Traemos la clase drive dentro del modulo Colab, del paquete google\n",
        "drive.mount ('/content/drive/') # Establecemos la conexion mediante el metodo mount"
      ],
      "metadata": {
        "id": "MzXb55cV2iKX"
      },
      "execution_count": null,
      "outputs": []
    },
    {
      "cell_type": "code",
      "source": [
        "# Establezco la conexion con mi fuente y con el Dataset de prueba\n",
        "path = ('/content/drive/MyDrive/Analisis de Datos basico Talento Tech/ArchivoBase.xlsx') # Esta es la ruta de acceso utilizando el medoto path"
      ],
      "metadata": {
        "id": "pIRQOnes4gli"
      },
      "execution_count": 3,
      "outputs": []
    },
    {
      "cell_type": "code",
      "source": [
        "# Importamos la libreria para manipulacion de datos llamada Pandas\n",
        "import pandas as pd"
      ],
      "metadata": {
        "id": "1qZ941wG6jqt"
      },
      "execution_count": 4,
      "outputs": []
    },
    {
      "cell_type": "code",
      "source": [
        "# Creamos un dataframe de pandas con los datos suministrados\n",
        "df = pd.read_excel(path)"
      ],
      "metadata": {
        "id": "zU-fhwfB8_Ci"
      },
      "execution_count": 5,
      "outputs": []
    },
    {
      "cell_type": "markdown",
      "source": [
        "# **Creacion y Lectura de Dataframe**\n",
        "\n",
        "pd.DataFrame(data): Crea un Dataframe a partir de datos\n",
        "\n",
        "pd.read_csv('Archivo.csv'): Lee un archivo csv y crea un dataframe\n",
        "\n",
        "pd.read_excel('Archivo.xlsx'): Lee un archivo excel y crea un dataframe"
      ],
      "metadata": {
        "id": "e6PPs1Kx-Fno"
      }
    },
    {
      "cell_type": "markdown",
      "source": [
        "## **Visualizacion y exploracion de datos**\n",
        "df.head (): Muestra las primeras filas del dataframe\n",
        "\n",
        "df.tail (): Muestra las ultimas filas del dataframe\n",
        "\n",
        "df.info (): Muestra informacion sobre el dataframe, incluyendo tipos de datos y valores no nulos\n",
        "\n",
        "df.describe (): Proporciona estadisticas descriptivas para columnas numericas\n",
        "\n",
        "df.shape: Devuelve una tupla con la cantidad de filas y columnas del dataframe\n",
        "\n",
        "df.columns: Devuelve una lista con los nombresde las columnas del dataframe"
      ],
      "metadata": {
        "id": "Ax8cPBilFL58"
      }
    },
    {
      "cell_type": "code",
      "source": [
        "df.head() # Muestra las primeras filas del dataframe"
      ],
      "metadata": {
        "id": "ibSNnkbj9n9Y"
      },
      "execution_count": null,
      "outputs": []
    },
    {
      "cell_type": "code",
      "source": [
        "df.tail() # Muestra las ultimas filas del dataframe"
      ],
      "metadata": {
        "id": "4aQEZeyN-E_G"
      },
      "execution_count": null,
      "outputs": []
    },
    {
      "cell_type": "code",
      "source": [
        "df.info() # Muestra informacion sobre el dataframe, incluyendo tipos de datos y valores no nulos"
      ],
      "metadata": {
        "id": "xjgWE9GVK2rN"
      },
      "execution_count": null,
      "outputs": []
    },
    {
      "cell_type": "code",
      "source": [
        "df.describe() # Proporciona estadisticas descriptivas para columnas numericas"
      ],
      "metadata": {
        "id": "SN0xQXBdK24G"
      },
      "execution_count": null,
      "outputs": []
    },
    {
      "cell_type": "code",
      "source": [
        "df.shape # Devuelve una tupla con la cantidad de filas y columnas del dataframe"
      ],
      "metadata": {
        "id": "j0bEQ-A0K3ED"
      },
      "execution_count": null,
      "outputs": []
    },
    {
      "cell_type": "code",
      "source": [
        "df.columns # Devuelve una lista con los nombresde las columnas del dataframe"
      ],
      "metadata": {
        "id": "Val6zjMvK3O-"
      },
      "execution_count": null,
      "outputs": []
    },
    {
      "cell_type": "code",
      "source": [
        "# Ejercicio 1: Mostrar las primeras filas del dataframe\n",
        "print('Ejercicio 1: Mostrar las primeras filas del dataframe')\n",
        "print(df.head(10))"
      ],
      "metadata": {
        "id": "pY0kd0yJaZO6"
      },
      "execution_count": null,
      "outputs": []
    },
    {
      "cell_type": "code",
      "source": [
        "# Ejercicio 2: Calcular el total de ventas por region\n",
        "print('Ejercicio 2: Calcular el total de ventas por region')\n",
        "Ventas_por_region = df.groupby('Region')[\"Ventas\"].sum()\n",
        "print(Ventas_por_region)\n",
        "print(\"\\n\")\n",
        "print(df.head(10))"
      ],
      "metadata": {
        "id": "bceJXLFHbvCf"
      },
      "execution_count": null,
      "outputs": []
    },
    {
      "cell_type": "code",
      "source": [
        "# Ejercicio 3: Filtras el DataFrame para mostrar solo las ventas realizadas por David\n",
        "print(\"Ejercicio 3: Filtras el DataFrame para mostrar solo las ventas realizadas por David\")\n",
        "ventas_david = df[df['Vendedor'] == 'David']\n",
        "print(ventas_david)\n",
        "print(\"\\n\")"
      ],
      "metadata": {
        "id": "RnU39LuEgAKe"
      },
      "execution_count": null,
      "outputs": []
    },
    {
      "cell_type": "code",
      "source": [
        "# Ejercicio 4: Calcular el promedio de ventas por producto\n",
        "print('Ejercicio 4: Calcular el promedio de ventas por producto')\n",
        "ventas_por_producto = df.groupby('Producto')['Ventas'].mean()\n",
        "print(ventas_por_producto)\n",
        "print(\"\\n\")"
      ],
      "metadata": {
        "id": "DPjGGvBKjIIV"
      },
      "execution_count": null,
      "outputs": []
    },
    {
      "cell_type": "code",
      "source": [
        "# Ejercicio 5: Ordenar el DataFrame por ventas en orden descendente\n",
        "print(\"Ejercicio 5: Ordenar el DataFrame por ventas en orden descendente\")\n",
        "df_ordenado = df.sort_values(by='Ventas', ascending=False) # Para ordenar de manera ascendente se cambia False por True o se deja el codigo hasta (by'Ventas') ya que por defecto queda ascendente segun regla SQL\n",
        "print(df_ordenado)"
      ],
      "metadata": {
        "id": "a9jThzqbjIY5"
      },
      "execution_count": null,
      "outputs": []
    },
    {
      "cell_type": "markdown",
      "source": [
        "# Manipulacion de datos\n",
        "\n",
        "Filtrar las filas dodnde las ventas sean mayores a 10000\n",
        "\n",
        "Ordenar el DataFrame por la columna \"Ventas\" en orden descendente (Ejercico 5)\n",
        "\n",
        "Eliminar la columna \"Vendedor\""
      ],
      "metadata": {
        "id": "HOvmkiT_Qyet"
      }
    },
    {
      "cell_type": "code",
      "source": [
        "# Ejercico 6: Filtrar las filas con valores superiores a 10000\n",
        "print('Ejercico 6: Filtrar las filas con valores superiores a 10000')\n",
        "df_filtrado = df[df['Ventas']>1000]\n",
        "print(df_filtrado)\n",
        "print('/n')"
      ],
      "metadata": {
        "id": "2R0JFjGgKFJa"
      },
      "execution_count": null,
      "outputs": []
    },
    {
      "cell_type": "code",
      "source": [
        "# Ejercicio 8: Eliminar la columna \"Vendedor\"\n",
        "print('Ejercicio 8: Eliminar la columna \"Vendedor\"')\n",
        "df_sin_vendedor = df.drop(columns=['Vendedor'])\n",
        "print(df_sin_vendedor)\n",
        "print('/n')"
      ],
      "metadata": {
        "id": "PDA2oZKZKF5A"
      },
      "execution_count": null,
      "outputs": []
    },
    {
      "cell_type": "markdown",
      "source": [
        "# Agregacion y agrupacion de datos\n",
        "\n",
        "Calcular el total de ventas por region\n",
        "\n",
        "Calcular el total de ventas por producto"
      ],
      "metadata": {
        "id": "uX6g2lBVRsHw"
      }
    },
    {
      "cell_type": "code",
      "source": [
        "# Ejercico 9: Total de Ventas por Region\n",
        "print('Ejercico 9: Total de Ventas por Region')\n",
        "Ventas_por_region = df.groupby('Region')['Ventas'].sum()\n",
        "print(Ventas_por_region)\n",
        "print('\\n') # Se puede colocar barra inclinada (slash /) o Backslash (\\) y no influye en el resultado"
      ],
      "metadata": {
        "colab": {
          "base_uri": "https://localhost:8080/"
        },
        "id": "hGQdQib8KGLq",
        "outputId": "b5da9421-c778-45d5-b304-16d2a701255f"
      },
      "execution_count": 33,
      "outputs": [
        {
          "output_type": "stream",
          "name": "stdout",
          "text": [
            "Ejercico 9: Total de Ventas por Region\n",
            "Region\n",
            "Central    90295\n",
            "Este       63555\n",
            "Oeste      85683\n",
            "Name: Ventas, dtype: int64\n",
            "\n",
            "\n"
          ]
        }
      ]
    },
    {
      "cell_type": "code",
      "source": [
        "# Ejercicio 10: Total de ventas por producto\n",
        "print('Ejercicio 10: Total de ventas por producto')\n",
        "ventas_por_producto = df.groupby('Producto')['Ventas'].sum()\n",
        "print(ventas_por_producto)\n",
        "print('\\n')"
      ],
      "metadata": {
        "colab": {
          "base_uri": "https://localhost:8080/"
        },
        "id": "sU1GsPRKKGbr",
        "outputId": "1beaa5e1-6af6-424e-e816-36a66390de66"
      },
      "execution_count": 34,
      "outputs": [
        {
          "output_type": "stream",
          "name": "stdout",
          "text": [
            "Ejercicio 10: Total de ventas por producto\n",
            "Producto\n",
            "Accesorios       42372\n",
            "Dispositivos     63519\n",
            "Sistemas        133642\n",
            "Name: Ventas, dtype: int64\n",
            "\n",
            "\n"
          ]
        }
      ]
    },
    {
      "cell_type": "code",
      "source": [
        "# Crear un DataFrame en pandas\n",
        "Data = {\n",
        "    'id': ['1','2','3','4','5'],\n",
        "    'weight': ['144.5', '167.2', '124.1', '144.5', '133.2'],\n",
        "    'Height': [5.9, 5.4, 5.2, 5.9, 5.7],\n",
        "    'Age': ['33','45','23','33','54'], # Colocar valores numericos como datos string no afecta al correr el codigo y viceversa\n",
        "    'Gender': ['M', 'M', 'F', 'M', 'F'], # Cuando las variables no son valores numericos es necesario colocarlas como string\n",
        "}\n",
        "\n",
        "df_persona = pd.DataFrame(Data)"
      ],
      "metadata": {
        "id": "-K5hRDsgKGqY"
      },
      "execution_count": 51,
      "outputs": []
    },
    {
      "cell_type": "code",
      "source": [
        "df_persona.head() # El DataFrame muestra los datos ordenados y ademas estructurados, permite convertir en tabla interactiva y mostrar los datos en graficos"
      ],
      "metadata": {
        "colab": {
          "base_uri": "https://localhost:8080/",
          "height": 206
        },
        "id": "Vfxh82oMnckx",
        "outputId": "cfd7a629-2ce4-4e06-bd05-531ba34baa9f"
      },
      "execution_count": 53,
      "outputs": [
        {
          "output_type": "execute_result",
          "data": {
            "text/plain": [
              "  id weight  Height Age Gender\n",
              "0  1  144.5     5.9  33      M\n",
              "1  2  167.2     5.4  45      M\n",
              "2  3  124.1     5.2  23      F\n",
              "3  4  144.5     5.9  33      M\n",
              "4  5  133.2     5.7  54      F"
            ],
            "text/html": [
              "\n",
              "  <div id=\"df-29bfb783-0ff8-4166-bdc0-35da7fb230ca\" class=\"colab-df-container\">\n",
              "    <div>\n",
              "<style scoped>\n",
              "    .dataframe tbody tr th:only-of-type {\n",
              "        vertical-align: middle;\n",
              "    }\n",
              "\n",
              "    .dataframe tbody tr th {\n",
              "        vertical-align: top;\n",
              "    }\n",
              "\n",
              "    .dataframe thead th {\n",
              "        text-align: right;\n",
              "    }\n",
              "</style>\n",
              "<table border=\"1\" class=\"dataframe\">\n",
              "  <thead>\n",
              "    <tr style=\"text-align: right;\">\n",
              "      <th></th>\n",
              "      <th>id</th>\n",
              "      <th>weight</th>\n",
              "      <th>Height</th>\n",
              "      <th>Age</th>\n",
              "      <th>Gender</th>\n",
              "    </tr>\n",
              "  </thead>\n",
              "  <tbody>\n",
              "    <tr>\n",
              "      <th>0</th>\n",
              "      <td>1</td>\n",
              "      <td>144.5</td>\n",
              "      <td>5.9</td>\n",
              "      <td>33</td>\n",
              "      <td>M</td>\n",
              "    </tr>\n",
              "    <tr>\n",
              "      <th>1</th>\n",
              "      <td>2</td>\n",
              "      <td>167.2</td>\n",
              "      <td>5.4</td>\n",
              "      <td>45</td>\n",
              "      <td>M</td>\n",
              "    </tr>\n",
              "    <tr>\n",
              "      <th>2</th>\n",
              "      <td>3</td>\n",
              "      <td>124.1</td>\n",
              "      <td>5.2</td>\n",
              "      <td>23</td>\n",
              "      <td>F</td>\n",
              "    </tr>\n",
              "    <tr>\n",
              "      <th>3</th>\n",
              "      <td>4</td>\n",
              "      <td>144.5</td>\n",
              "      <td>5.9</td>\n",
              "      <td>33</td>\n",
              "      <td>M</td>\n",
              "    </tr>\n",
              "    <tr>\n",
              "      <th>4</th>\n",
              "      <td>5</td>\n",
              "      <td>133.2</td>\n",
              "      <td>5.7</td>\n",
              "      <td>54</td>\n",
              "      <td>F</td>\n",
              "    </tr>\n",
              "  </tbody>\n",
              "</table>\n",
              "</div>\n",
              "    <div class=\"colab-df-buttons\">\n",
              "\n",
              "  <div class=\"colab-df-container\">\n",
              "    <button class=\"colab-df-convert\" onclick=\"convertToInteractive('df-29bfb783-0ff8-4166-bdc0-35da7fb230ca')\"\n",
              "            title=\"Convert this dataframe to an interactive table.\"\n",
              "            style=\"display:none;\">\n",
              "\n",
              "  <svg xmlns=\"http://www.w3.org/2000/svg\" height=\"24px\" viewBox=\"0 -960 960 960\">\n",
              "    <path d=\"M120-120v-720h720v720H120Zm60-500h600v-160H180v160Zm220 220h160v-160H400v160Zm0 220h160v-160H400v160ZM180-400h160v-160H180v160Zm440 0h160v-160H620v160ZM180-180h160v-160H180v160Zm440 0h160v-160H620v160Z\"/>\n",
              "  </svg>\n",
              "    </button>\n",
              "\n",
              "  <style>\n",
              "    .colab-df-container {\n",
              "      display:flex;\n",
              "      gap: 12px;\n",
              "    }\n",
              "\n",
              "    .colab-df-convert {\n",
              "      background-color: #E8F0FE;\n",
              "      border: none;\n",
              "      border-radius: 50%;\n",
              "      cursor: pointer;\n",
              "      display: none;\n",
              "      fill: #1967D2;\n",
              "      height: 32px;\n",
              "      padding: 0 0 0 0;\n",
              "      width: 32px;\n",
              "    }\n",
              "\n",
              "    .colab-df-convert:hover {\n",
              "      background-color: #E2EBFA;\n",
              "      box-shadow: 0px 1px 2px rgba(60, 64, 67, 0.3), 0px 1px 3px 1px rgba(60, 64, 67, 0.15);\n",
              "      fill: #174EA6;\n",
              "    }\n",
              "\n",
              "    .colab-df-buttons div {\n",
              "      margin-bottom: 4px;\n",
              "    }\n",
              "\n",
              "    [theme=dark] .colab-df-convert {\n",
              "      background-color: #3B4455;\n",
              "      fill: #D2E3FC;\n",
              "    }\n",
              "\n",
              "    [theme=dark] .colab-df-convert:hover {\n",
              "      background-color: #434B5C;\n",
              "      box-shadow: 0px 1px 3px 1px rgba(0, 0, 0, 0.15);\n",
              "      filter: drop-shadow(0px 1px 2px rgba(0, 0, 0, 0.3));\n",
              "      fill: #FFFFFF;\n",
              "    }\n",
              "  </style>\n",
              "\n",
              "    <script>\n",
              "      const buttonEl =\n",
              "        document.querySelector('#df-29bfb783-0ff8-4166-bdc0-35da7fb230ca button.colab-df-convert');\n",
              "      buttonEl.style.display =\n",
              "        google.colab.kernel.accessAllowed ? 'block' : 'none';\n",
              "\n",
              "      async function convertToInteractive(key) {\n",
              "        const element = document.querySelector('#df-29bfb783-0ff8-4166-bdc0-35da7fb230ca');\n",
              "        const dataTable =\n",
              "          await google.colab.kernel.invokeFunction('convertToInteractive',\n",
              "                                                    [key], {});\n",
              "        if (!dataTable) return;\n",
              "\n",
              "        const docLinkHtml = 'Like what you see? Visit the ' +\n",
              "          '<a target=\"_blank\" href=https://colab.research.google.com/notebooks/data_table.ipynb>data table notebook</a>'\n",
              "          + ' to learn more about interactive tables.';\n",
              "        element.innerHTML = '';\n",
              "        dataTable['output_type'] = 'display_data';\n",
              "        await google.colab.output.renderOutput(dataTable, element);\n",
              "        const docLink = document.createElement('div');\n",
              "        docLink.innerHTML = docLinkHtml;\n",
              "        element.appendChild(docLink);\n",
              "      }\n",
              "    </script>\n",
              "  </div>\n",
              "\n",
              "\n",
              "<div id=\"df-397f32b9-8aa6-4243-9a18-fefdfa506dda\">\n",
              "  <button class=\"colab-df-quickchart\" onclick=\"quickchart('df-397f32b9-8aa6-4243-9a18-fefdfa506dda')\"\n",
              "            title=\"Suggest charts\"\n",
              "            style=\"display:none;\">\n",
              "\n",
              "<svg xmlns=\"http://www.w3.org/2000/svg\" height=\"24px\"viewBox=\"0 0 24 24\"\n",
              "     width=\"24px\">\n",
              "    <g>\n",
              "        <path d=\"M19 3H5c-1.1 0-2 .9-2 2v14c0 1.1.9 2 2 2h14c1.1 0 2-.9 2-2V5c0-1.1-.9-2-2-2zM9 17H7v-7h2v7zm4 0h-2V7h2v10zm4 0h-2v-4h2v4z\"/>\n",
              "    </g>\n",
              "</svg>\n",
              "  </button>\n",
              "\n",
              "<style>\n",
              "  .colab-df-quickchart {\n",
              "      --bg-color: #E8F0FE;\n",
              "      --fill-color: #1967D2;\n",
              "      --hover-bg-color: #E2EBFA;\n",
              "      --hover-fill-color: #174EA6;\n",
              "      --disabled-fill-color: #AAA;\n",
              "      --disabled-bg-color: #DDD;\n",
              "  }\n",
              "\n",
              "  [theme=dark] .colab-df-quickchart {\n",
              "      --bg-color: #3B4455;\n",
              "      --fill-color: #D2E3FC;\n",
              "      --hover-bg-color: #434B5C;\n",
              "      --hover-fill-color: #FFFFFF;\n",
              "      --disabled-bg-color: #3B4455;\n",
              "      --disabled-fill-color: #666;\n",
              "  }\n",
              "\n",
              "  .colab-df-quickchart {\n",
              "    background-color: var(--bg-color);\n",
              "    border: none;\n",
              "    border-radius: 50%;\n",
              "    cursor: pointer;\n",
              "    display: none;\n",
              "    fill: var(--fill-color);\n",
              "    height: 32px;\n",
              "    padding: 0;\n",
              "    width: 32px;\n",
              "  }\n",
              "\n",
              "  .colab-df-quickchart:hover {\n",
              "    background-color: var(--hover-bg-color);\n",
              "    box-shadow: 0 1px 2px rgba(60, 64, 67, 0.3), 0 1px 3px 1px rgba(60, 64, 67, 0.15);\n",
              "    fill: var(--button-hover-fill-color);\n",
              "  }\n",
              "\n",
              "  .colab-df-quickchart-complete:disabled,\n",
              "  .colab-df-quickchart-complete:disabled:hover {\n",
              "    background-color: var(--disabled-bg-color);\n",
              "    fill: var(--disabled-fill-color);\n",
              "    box-shadow: none;\n",
              "  }\n",
              "\n",
              "  .colab-df-spinner {\n",
              "    border: 2px solid var(--fill-color);\n",
              "    border-color: transparent;\n",
              "    border-bottom-color: var(--fill-color);\n",
              "    animation:\n",
              "      spin 1s steps(1) infinite;\n",
              "  }\n",
              "\n",
              "  @keyframes spin {\n",
              "    0% {\n",
              "      border-color: transparent;\n",
              "      border-bottom-color: var(--fill-color);\n",
              "      border-left-color: var(--fill-color);\n",
              "    }\n",
              "    20% {\n",
              "      border-color: transparent;\n",
              "      border-left-color: var(--fill-color);\n",
              "      border-top-color: var(--fill-color);\n",
              "    }\n",
              "    30% {\n",
              "      border-color: transparent;\n",
              "      border-left-color: var(--fill-color);\n",
              "      border-top-color: var(--fill-color);\n",
              "      border-right-color: var(--fill-color);\n",
              "    }\n",
              "    40% {\n",
              "      border-color: transparent;\n",
              "      border-right-color: var(--fill-color);\n",
              "      border-top-color: var(--fill-color);\n",
              "    }\n",
              "    60% {\n",
              "      border-color: transparent;\n",
              "      border-right-color: var(--fill-color);\n",
              "    }\n",
              "    80% {\n",
              "      border-color: transparent;\n",
              "      border-right-color: var(--fill-color);\n",
              "      border-bottom-color: var(--fill-color);\n",
              "    }\n",
              "    90% {\n",
              "      border-color: transparent;\n",
              "      border-bottom-color: var(--fill-color);\n",
              "    }\n",
              "  }\n",
              "</style>\n",
              "\n",
              "  <script>\n",
              "    async function quickchart(key) {\n",
              "      const quickchartButtonEl =\n",
              "        document.querySelector('#' + key + ' button');\n",
              "      quickchartButtonEl.disabled = true;  // To prevent multiple clicks.\n",
              "      quickchartButtonEl.classList.add('colab-df-spinner');\n",
              "      try {\n",
              "        const charts = await google.colab.kernel.invokeFunction(\n",
              "            'suggestCharts', [key], {});\n",
              "      } catch (error) {\n",
              "        console.error('Error during call to suggestCharts:', error);\n",
              "      }\n",
              "      quickchartButtonEl.classList.remove('colab-df-spinner');\n",
              "      quickchartButtonEl.classList.add('colab-df-quickchart-complete');\n",
              "    }\n",
              "    (() => {\n",
              "      let quickchartButtonEl =\n",
              "        document.querySelector('#df-397f32b9-8aa6-4243-9a18-fefdfa506dda button');\n",
              "      quickchartButtonEl.style.display =\n",
              "        google.colab.kernel.accessAllowed ? 'block' : 'none';\n",
              "    })();\n",
              "  </script>\n",
              "</div>\n",
              "\n",
              "    </div>\n",
              "  </div>\n"
            ],
            "application/vnd.google.colaboratory.intrinsic+json": {
              "type": "dataframe",
              "variable_name": "df_persona",
              "summary": "{\n  \"name\": \"df_persona\",\n  \"rows\": 5,\n  \"fields\": [\n    {\n      \"column\": \"id\",\n      \"properties\": {\n        \"dtype\": \"string\",\n        \"samples\": [\n          \"2\",\n          \"5\",\n          \"3\"\n        ],\n        \"num_unique_values\": 5,\n        \"semantic_type\": \"\",\n        \"description\": \"\"\n      }\n    },\n    {\n      \"column\": \"weight\",\n      \"properties\": {\n        \"dtype\": \"string\",\n        \"samples\": [\n          \"167.2\",\n          \"133.2\",\n          \"144.5\"\n        ],\n        \"num_unique_values\": 4,\n        \"semantic_type\": \"\",\n        \"description\": \"\"\n      }\n    },\n    {\n      \"column\": \"Height\",\n      \"properties\": {\n        \"dtype\": \"number\",\n        \"std\": 0.3114482300479488,\n        \"min\": 5.2,\n        \"max\": 5.9,\n        \"samples\": [\n          5.4,\n          5.7,\n          5.9\n        ],\n        \"num_unique_values\": 4,\n        \"semantic_type\": \"\",\n        \"description\": \"\"\n      }\n    },\n    {\n      \"column\": \"Age\",\n      \"properties\": {\n        \"dtype\": \"string\",\n        \"samples\": [\n          \"45\",\n          \"54\",\n          \"33\"\n        ],\n        \"num_unique_values\": 4,\n        \"semantic_type\": \"\",\n        \"description\": \"\"\n      }\n    },\n    {\n      \"column\": \"Gender\",\n      \"properties\": {\n        \"dtype\": \"category\",\n        \"samples\": [\n          \"F\",\n          \"M\"\n        ],\n        \"num_unique_values\": 2,\n        \"semantic_type\": \"\",\n        \"description\": \"\"\n      }\n    }\n  ]\n}"
            }
          },
          "metadata": {},
          "execution_count": 53
        }
      ]
    },
    {
      "cell_type": "code",
      "source": [
        "print(df_persona) # Tambien se puede usar el comando \"print()\" para mostrar datos ordenados"
      ],
      "metadata": {
        "colab": {
          "base_uri": "https://localhost:8080/"
        },
        "id": "gCrQYklzjx_p",
        "outputId": "6ea8cf22-9a27-47e2-88e6-cb36d2e203f1"
      },
      "execution_count": 52,
      "outputs": [
        {
          "output_type": "stream",
          "name": "stdout",
          "text": [
            "  id weight  Height Age Gender\n",
            "0  1  144.5     5.9  33      M\n",
            "1  2  167.2     5.4  45      M\n",
            "2  3  124.1     5.2  23      F\n",
            "3  4  144.5     5.9  33      M\n",
            "4  5  133.2     5.7  54      F\n"
          ]
        }
      ]
    }
  ]
}