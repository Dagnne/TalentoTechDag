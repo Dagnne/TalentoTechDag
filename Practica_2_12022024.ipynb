{
  "nbformat": 4,
  "nbformat_minor": 0,
  "metadata": {
    "colab": {
      "provenance": [],
      "authorship_tag": "ABX9TyOPFlXnQ4t5c7M1KCKHXMZG",
      "include_colab_link": true
    },
    "kernelspec": {
      "name": "python3",
      "display_name": "Python 3"
    },
    "language_info": {
      "name": "python"
    }
  },
  "cells": [
    {
      "cell_type": "markdown",
      "metadata": {
        "id": "view-in-github",
        "colab_type": "text"
      },
      "source": [
        "<a href=\"https://colab.research.google.com/github/Dagnne/TalentoTechDag/blob/main/Practica_2_12022024.ipynb\" target=\"_parent\"><img src=\"https://colab.research.google.com/assets/colab-badge.svg\" alt=\"Open In Colab\"/></a>"
      ]
    },
    {
      "cell_type": "markdown",
      "source": [
        "# Suma de Variables"
      ],
      "metadata": {
        "id": "jPljhO90tNYs"
      }
    },
    {
      "cell_type": "code",
      "source": [
        "# variables e input - entrada\n",
        "\n",
        "num1= 10\n",
        "num2= 12\n",
        "\n",
        "# process\n",
        "suma = num1 + num2\n",
        "\n",
        "# output - salida\n",
        "print(suma)"
      ],
      "metadata": {
        "id": "MLwBjs10vIdc",
        "colab": {
          "base_uri": "https://localhost:8080/"
        },
        "outputId": "07ec449c-b37d-4c22-ded9-ac801391d816"
      },
      "execution_count": 38,
      "outputs": [
        {
          "output_type": "stream",
          "name": "stdout",
          "text": [
            "22\n"
          ]
        }
      ]
    },
    {
      "cell_type": "markdown",
      "source": [
        "Conexion con Drive"
      ],
      "metadata": {
        "id": "QoQvNw5kxrZT"
      }
    },
    {
      "cell_type": "code",
      "source": [
        "from google.colab import drive # Traemos la clase drive dentro del modulo Colab, del paquete google\n",
        "drive.mount ('/content/drive/') # Establecemos la conexion mediante el metodo mount"
      ],
      "metadata": {
        "id": "MzXb55cV2iKX",
        "colab": {
          "base_uri": "https://localhost:8080/"
        },
        "outputId": "5d9566b8-a6bb-4888-ea93-dd278b9796fd"
      },
      "execution_count": 39,
      "outputs": [
        {
          "output_type": "stream",
          "name": "stdout",
          "text": [
            "Drive already mounted at /content/drive/; to attempt to forcibly remount, call drive.mount(\"/content/drive/\", force_remount=True).\n"
          ]
        }
      ]
    },
    {
      "cell_type": "code",
      "source": [
        "# Establezco la conexion con mi fuente y con el Dataset de prueba\n",
        "path = ('/content/drive/MyDrive/Analisis de Datos basico Talento Tech/ArchivoBase.xlsx') # Esta es la ruta de acceso utilizando el medoto path"
      ],
      "metadata": {
        "id": "pIRQOnes4gli"
      },
      "execution_count": 40,
      "outputs": []
    },
    {
      "cell_type": "code",
      "source": [
        "# importar desde pandas\n",
        "import pandas as pd"
      ],
      "metadata": {
        "id": "DhS5KhYUdUzZ"
      },
      "execution_count": 41,
      "outputs": []
    },
    {
      "cell_type": "code",
      "source": [
        "df = pd.read_excel(path) # Tener en cuenta el uso de mayusculas y minusculas, si no, puede generar error"
      ],
      "metadata": {
        "id": "HD5G15Jidjui"
      },
      "execution_count": 42,
      "outputs": []
    },
    {
      "cell_type": "code",
      "source": [
        "df.head(20)"
      ],
      "metadata": {
        "id": "VP6eTIUkf8UJ"
      },
      "execution_count": null,
      "outputs": []
    },
    {
      "cell_type": "markdown",
      "source": [
        "# Segunda Práctica"
      ],
      "metadata": {
        "id": "QusS1PpL1Ew-"
      }
    },
    {
      "cell_type": "code",
      "execution_count": 44,
      "metadata": {
        "id": "RYMKI-tN09Fw"
      },
      "outputs": [],
      "source": [
        "# Paso 1: Ingresar las librerias requeridas\n",
        "# Paso 2: Debo tener el archivo en una carpeta\n",
        "# Paso 3: Debo establecer una conexion con la carpeta\n",
        "# Paso 4: Ejecutar la celda de la conexion y revisar que este ok"
      ]
    },
    {
      "cell_type": "code",
      "source": [
        "# Importamos la libreria para manipulacion de datos llamada Pandas\n",
        "import pandas as pd"
      ],
      "metadata": {
        "id": "1qZ941wG6jqt"
      },
      "execution_count": 45,
      "outputs": []
    },
    {
      "cell_type": "code",
      "source": [
        "# Creamos un dataframe de pandas con los datos suministrados\n",
        "df = pd.read_excel(path)"
      ],
      "metadata": {
        "id": "zU-fhwfB8_Ci"
      },
      "execution_count": 46,
      "outputs": []
    },
    {
      "cell_type": "markdown",
      "source": [
        "# **Creacion y Lectura de Dataframe**\n",
        "\n",
        "pd.DataFrame(data): Crea un Dataframe a partir de datos\n",
        "\n",
        "pd.read_csv('Archivo.csv'): Lee un archivo csv y crea un dataframe\n",
        "\n",
        "pd.read_excel('Archivo.xlsx'): Lee un archivo excel y crea un dataframe"
      ],
      "metadata": {
        "id": "e6PPs1Kx-Fno"
      }
    },
    {
      "cell_type": "markdown",
      "source": [
        "## **Visualizacion y exploracion de datos**\n",
        "df.head (): Muestra las primeras filas del dataframe\n",
        "\n",
        "df.tail (): Muestra las ultimas filas del dataframe\n",
        "\n",
        "df.info (): Muestra informacion sobre el dataframe, incluyendo tipos de datos y valores no nulos\n",
        "\n",
        "df.describe (): Proporciona estadisticas descriptivas para columnas numericas\n",
        "\n",
        "df.shape: Devuelve una tupla con la cantidad de filas y columnas del dataframe\n",
        "\n",
        "df.columns: Devuelve una lista con los nombresde las columnas del dataframe"
      ],
      "metadata": {
        "id": "Ax8cPBilFL58"
      }
    },
    {
      "cell_type": "code",
      "source": [
        "df.head() # Muestra las primeras filas del dataframe"
      ],
      "metadata": {
        "id": "ibSNnkbj9n9Y"
      },
      "execution_count": null,
      "outputs": []
    },
    {
      "cell_type": "code",
      "source": [
        "df.tail() # Muestra las ultimas filas del dataframe"
      ],
      "metadata": {
        "id": "4aQEZeyN-E_G"
      },
      "execution_count": null,
      "outputs": []
    },
    {
      "cell_type": "code",
      "source": [
        "df.info() # Muestra informacion sobre el dataframe, incluyendo tipos de datos y valores no nulos"
      ],
      "metadata": {
        "id": "xjgWE9GVK2rN"
      },
      "execution_count": null,
      "outputs": []
    },
    {
      "cell_type": "code",
      "source": [
        "df.describe() # Proporciona estadisticas descriptivas para columnas numericas"
      ],
      "metadata": {
        "id": "SN0xQXBdK24G"
      },
      "execution_count": null,
      "outputs": []
    },
    {
      "cell_type": "code",
      "source": [
        "df.shape # Devuelve una tupla con la cantidad de filas y columnas del dataframe"
      ],
      "metadata": {
        "id": "j0bEQ-A0K3ED"
      },
      "execution_count": null,
      "outputs": []
    },
    {
      "cell_type": "code",
      "source": [
        "df.columns # Devuelve una lista con los nombresde las columnas del dataframe"
      ],
      "metadata": {
        "id": "Val6zjMvK3O-"
      },
      "execution_count": null,
      "outputs": []
    },
    {
      "cell_type": "code",
      "source": [
        "# Ejercicio 1: Mostrar las primeras filas del dataframe\n",
        "print('Ejercicio 1: Mostrar las primeras filas del dataframe')\n",
        "print(df.head(10))"
      ],
      "metadata": {
        "id": "pY0kd0yJaZO6"
      },
      "execution_count": null,
      "outputs": []
    },
    {
      "cell_type": "code",
      "source": [
        "# Ejercicio 2: Calcular el total de ventas por region\n",
        "print('Ejercicio 2: Calcular el total de ventas por region')\n",
        "Ventas_por_region = df.groupby('Region')[\"Ventas\"].sum()\n",
        "print(Ventas_por_region)\n",
        "print(\"\\n\")\n",
        "print(df.head(10))"
      ],
      "metadata": {
        "id": "bceJXLFHbvCf"
      },
      "execution_count": null,
      "outputs": []
    },
    {
      "cell_type": "code",
      "source": [
        "# Ejercicio 3: Filtras el DataFrame para mostrar solo las ventas realizadas por David\n",
        "print(\"Ejercicio 3: Filtras el DataFrame para mostrar solo las ventas realizadas por David\")\n",
        "ventas_david = df[df['Vendedor'] == 'David']\n",
        "print(ventas_david)\n",
        "print(\"\\n\")"
      ],
      "metadata": {
        "id": "RnU39LuEgAKe"
      },
      "execution_count": null,
      "outputs": []
    },
    {
      "cell_type": "code",
      "source": [
        "# Ejercicio 4: Calcular el promedio de ventas por producto\n",
        "print('Ejercicio 4: Calcular el promedio de ventas por producto')\n",
        "ventas_por_producto = df.groupby('Producto')['Ventas'].mean()\n",
        "print(ventas_por_producto)\n",
        "print(\"\\n\")"
      ],
      "metadata": {
        "id": "DPjGGvBKjIIV"
      },
      "execution_count": null,
      "outputs": []
    },
    {
      "cell_type": "code",
      "source": [
        "# Ejercicio 5: Ordenar el DataFrame por ventas en orden descendente\n",
        "print(\"Ejercicio 5: Ordenar el DataFrame por ventas en orden descendente\")\n",
        "df_ordenado = df.sort_values(by='Ventas', ascending=False) # Para ordenar de manera ascendente se cambia False por True o se deja el codigo hasta (by'Ventas') ya que por defecto queda ascendente segun regla SQL\n",
        "print(df_ordenado)"
      ],
      "metadata": {
        "id": "a9jThzqbjIY5"
      },
      "execution_count": null,
      "outputs": []
    },
    {
      "cell_type": "markdown",
      "source": [
        "# Manipulacion de datos\n",
        "\n",
        "Filtrar las filas dodnde las ventas sean mayores a 10000\n",
        "\n",
        "Ordenar el DataFrame por la columna \"Ventas\" en orden descendente (Ejercico 5)\n",
        "\n",
        "Eliminar la columna \"Vendedor\""
      ],
      "metadata": {
        "id": "HOvmkiT_Qyet"
      }
    },
    {
      "cell_type": "code",
      "source": [
        "# Ejercico 6: Filtrar las filas con valores superiores a 10000\n",
        "print('Ejercico 6: Filtrar las filas con valores superiores a 10000')\n",
        "df_filtrado = df[df['Ventas']>1000]\n",
        "print(df_filtrado)\n",
        "print('/n')"
      ],
      "metadata": {
        "id": "2R0JFjGgKFJa"
      },
      "execution_count": null,
      "outputs": []
    },
    {
      "cell_type": "code",
      "source": [
        "# Ejercicio 8: Eliminar la columna \"Vendedor\"\n",
        "print('Ejercicio 8: Eliminar la columna \"Vendedor\"')\n",
        "df_sin_vendedor = df.drop(columns=['Vendedor'])\n",
        "print(df_sin_vendedor)\n",
        "print('/n')"
      ],
      "metadata": {
        "id": "PDA2oZKZKF5A"
      },
      "execution_count": null,
      "outputs": []
    },
    {
      "cell_type": "markdown",
      "source": [
        "# Agregacion y agrupacion de datos\n",
        "\n",
        "Calcular el total de ventas por region\n",
        "\n",
        "Calcular el total de ventas por producto"
      ],
      "metadata": {
        "id": "uX6g2lBVRsHw"
      }
    },
    {
      "cell_type": "code",
      "source": [
        "# Ejercico 9: Total de Ventas por Region\n",
        "print('Ejercico 9: Total de Ventas por Region')\n",
        "Ventas_por_region = df.groupby('Region')['Ventas'].sum()\n",
        "print(Ventas_por_region)\n",
        "print('\\n') # Se puede colocar barra inclinada (slash /) o Backslash (\\) y no influye en el resultado"
      ],
      "metadata": {
        "id": "hGQdQib8KGLq"
      },
      "execution_count": null,
      "outputs": []
    },
    {
      "cell_type": "code",
      "source": [
        "# Ejercicio 10: Total de ventas por producto\n",
        "print('Ejercicio 10: Total de ventas por producto')\n",
        "ventas_por_producto = df.groupby('Producto')['Ventas'].sum()\n",
        "print(ventas_por_producto)\n",
        "print('\\n')"
      ],
      "metadata": {
        "id": "sU1GsPRKKGbr"
      },
      "execution_count": null,
      "outputs": []
    },
    {
      "cell_type": "code",
      "source": [
        "# Crear un DataFrame en pandas\n",
        "Data = {\n",
        "    'id': ['1','2','3','4','5','3','5'],\n",
        "    'weight': ['144.5', '167.2', '124.1', '144.5', '133.2','124.1','129.2'],\n",
        "    'Height': [5.9, 5.4, 5.2, 5.9, 5.7, 5.2, 5.3],\n",
        "    'Age': ['33','45','23','33','54','23','42'], # Colocar valores numericos como datos string no afecta al correr el codigo y viceversa\n",
        "    'Gender': ['M', 'M', 'F', 'M', 'F', 'F', 'M'], # Cuando las variables no son valores numericos es necesario colocarlas como string\n",
        "}\n",
        "\n",
        "df_persona = pd.DataFrame(Data)"
      ],
      "metadata": {
        "id": "-K5hRDsgKGqY"
      },
      "execution_count": 91,
      "outputs": []
    },
    {
      "cell_type": "code",
      "source": [
        "df_persona.head() # El DataFrame muestra los datos ordenados y ademas estructurados, permite convertir en tabla interactiva y mostrar los datos en graficos"
      ],
      "metadata": {
        "id": "Vfxh82oMnckx"
      },
      "execution_count": null,
      "outputs": []
    },
    {
      "cell_type": "code",
      "source": [
        "print(df_persona) # Tambien se puede usar el comando \"print()\" para mostrar datos ordenados"
      ],
      "metadata": {
        "id": "gCrQYklzjx_p"
      },
      "execution_count": null,
      "outputs": []
    },
    {
      "cell_type": "code",
      "source": [
        "df_persona.info() # Informacion del DataFrame"
      ],
      "metadata": {
        "id": "V0SCXApWDwKz"
      },
      "execution_count": null,
      "outputs": []
    },
    {
      "cell_type": "code",
      "source": [
        "# Mostramos la cantidad de registros antes de aplicar una transformacion, limpieza o filtro\n",
        "print(f'Tamaño del set antes de eliminar las filas repetidas:{df_persona}')\n",
        "df_persona.drop_duplicates(inplace=True)\n",
        "# Mostramos la cantidad de registros despues de aplicar una transformacion, limpieza o filtro\n",
        "print(f'Tamaño del set despues de eliminar las filas repetidas:{df_persona}')"
      ],
      "metadata": {
        "id": "xIGBwd7cI7aQ"
      },
      "execution_count": null,
      "outputs": []
    }
  ]
}